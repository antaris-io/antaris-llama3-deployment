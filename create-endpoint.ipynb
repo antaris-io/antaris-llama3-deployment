{
 "cells": [
  {
   "cell_type": "code",
   "execution_count": null,
   "metadata": {},
   "outputs": [],
   "source": [
    "# doc: https://docs.aws.amazon.com/sagemaker/latest/dg/serverless-endpoints-create.html\n",
    "\n",
    "# create a ECR repository and follow the instructions to push the image to the repository"
   ]
  },
  {
   "cell_type": "code",
   "execution_count": null,
   "metadata": {},
   "outputs": [],
   "source": [
    "# upload model checkpoint to S3\n",
    "!aws s3 cp Meta-Llama-3-8B-hf/ s3://253333439226-app-registry/llama3/Meta-Llama-3-8B-hf/ --recursive\n",
    "!aws s3 cp Meta-Llama-3-8B-hf-finetuned/ s3://253333439226-app-registry/llama3/Meta-Llama-3-8B-hf-finetuned/ --recursive"
   ]
  },
  {
   "cell_type": "code",
   "execution_count": 1,
   "metadata": {},
   "outputs": [
    {
     "name": "stdout",
     "output_type": "stream",
     "text": [
      "[sudo] password for jkreit: \n"
     ]
    }
   ],
   "source": [
    "# login, this is an other command as in the doc\n",
    "!sudo docker login -u AWS -p $(aws ecr get-login-password --region eu-central-1) 253333439226.dkr.ecr.eu-central-1.amazonaws.com"
   ]
  },
  {
   "cell_type": "code",
   "execution_count": null,
   "metadata": {},
   "outputs": [],
   "source": [
    "# create docker image\n",
    "!sudo docker build -t llama3-deployment ."
   ]
  },
  {
   "cell_type": "code",
   "execution_count": null,
   "metadata": {},
   "outputs": [],
   "source": [
    "# tag docker image\n",
    "!sudo docker tag llama3-deployment:latest 253333439226.dkr.ecr.eu-central-1.amazonaws.com/llama3-deployment:latest"
   ]
  },
  {
   "cell_type": "code",
   "execution_count": null,
   "metadata": {},
   "outputs": [],
   "source": [
    "# push docker image\n",
    "!sudo docker push 253333439226.dkr.ecr.eu-central-1.amazonaws.com/llama3-deployment:latest"
   ]
  },
  {
   "cell_type": "code",
   "execution_count": null,
   "metadata": {},
   "outputs": [],
   "source": [
    "# create a model (using the console)\n",
    "# create an endpoint configuration (using the console)"
   ]
  }
 ],
 "metadata": {
  "kernelspec": {
   "display_name": ".venv",
   "language": "python",
   "name": "python3"
  },
  "language_info": {
   "codemirror_mode": {
    "name": "ipython",
    "version": 3
   },
   "file_extension": ".py",
   "mimetype": "text/x-python",
   "name": "python",
   "nbconvert_exporter": "python",
   "pygments_lexer": "ipython3",
   "version": "3.10.12"
  }
 },
 "nbformat": 4,
 "nbformat_minor": 2
}
