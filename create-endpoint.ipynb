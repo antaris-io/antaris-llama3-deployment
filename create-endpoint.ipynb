{
 "cells": [
  {
   "cell_type": "code",
   "execution_count": null,
   "metadata": {},
   "outputs": [],
   "source": [
    "# create docker image\n",
    "!sudo nohup docker build -t llama3-deployment . &"
   ]
  },
  {
   "cell_type": "code",
   "execution_count": null,
   "metadata": {},
   "outputs": [],
   "source": [
    "# create new repositroy in Amaon ECR\n",
    "!aws ecr create-repository --repository-name your-repo-name --region eu-central-1"
   ]
  },
  {
   "cell_type": "code",
   "execution_count": null,
   "metadata": {},
   "outputs": [],
   "source": [
    "# Get the login command from ECR and execute it directly\n",
    "!aws ecr get-login-password --region eu-central-1 | docker login --username AWS --password-stdin <your-account-id>.dkr.ecr.eu-central-1.amazonaws.com"
   ]
  },
  {
   "cell_type": "code",
   "execution_count": null,
   "metadata": {},
   "outputs": [],
   "source": [
    "# Tag your Docker image and push it to ECR\n",
    "!docker tag your-image-name:latest <your-account-id>.dkr.ecr.eu-central-1.amazonaws.com/your-repo-name:latest\n",
    "!docker push <your-account-id>.dkr.ecr.eu-central-1.amazonaws.com/your-repo-name:latest"
   ]
  },
  {
   "cell_type": "code",
   "execution_count": null,
   "metadata": {},
   "outputs": [],
   "source": [
    "# Use the AWS CLI to create the SageMaker model, specifying your custom image\n",
    "!aws sagemaker create-model \\\n",
    "    --model-name your-model-name \\\n",
    "    --primary-container Image=<your-account-id>.dkr.ecr.eu-central-1.amazonaws.com/your-repo-name:latest \\\n",
    "    --execution-role-arn arn:aws:iam::your-account-id:role/your-sagemaker-execution-role \\\n",
    "    --region eu-central-1"
   ]
  },
  {
   "cell_type": "code",
   "execution_count": null,
   "metadata": {},
   "outputs": [],
   "source": [
    "# Create the Endpoint Configuration Using AWS CLI\n",
    "!aws sagemaker create-endpoint-config \\\n",
    "    --endpoint-config-name your-endpoint-config-name \\\n",
    "    --production-variants VariantName=AllTraffic,ModelName=your-model-name,InitialInstanceCount=1,InstanceType=ml.m5.xlarge,InitialVariantWeight=1.0 \\\n",
    "    --region eu-central-1"
   ]
  },
  {
   "cell_type": "code",
   "execution_count": null,
   "metadata": {},
   "outputs": [],
   "source": [
    "# Create the Endpoint Using AWS CLI\n",
    "!aws sagemaker create-endpoint \\\n",
    "    --endpoint-name your-endpoint-name \\\n",
    "    --endpoint-config-name your-endpoint-config-name \\\n",
    "    --region eu-central-1"
   ]
  },
  {
   "cell_type": "code",
   "execution_count": null,
   "metadata": {},
   "outputs": [],
   "source": [
    "# Check the status of the endpoint\n",
    "!aws sagemaker describe-endpoint --endpoint-name your-endpoint-name --region eu-central-1"
   ]
  }
 ],
 "metadata": {
  "language_info": {
   "name": "python"
  }
 },
 "nbformat": 4,
 "nbformat_minor": 2
}
